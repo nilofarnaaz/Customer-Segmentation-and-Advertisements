{
 "cells": [
  {
   "cell_type": "code",
   "execution_count": null,
   "id": "37923474",
   "metadata": {},
   "outputs": [],
   "source": [
    "%matplotlib inline\n",
    "import numpy as np\n",
    "import pandas as pd\n",
    "import matplotlib.pyplot as plt\n"
   ]
  },
  {
   "cell_type": "code",
   "execution_count": null,
   "id": "5bee33bc",
   "metadata": {},
   "outputs": [],
   "source": [
    "\n",
    "#Import Online Retail Data containing transactions from 01/12/2010 and 09/12/2011\n",
    "Rtl_data = pd.read_csv('RetailData.csv', encoding = 'unicode_escape')\n",
    "Rtl_data.head()"
   ]
  },
  {
   "cell_type": "code",
   "execution_count": null,
   "id": "fc23f51d",
   "metadata": {},
   "outputs": [],
   "source": [
    "#Check the shape (number of columns and rows) in the dataset\n",
    "Rtl_data.shape"
   ]
  },
  {
   "cell_type": "code",
   "execution_count": null,
   "id": "82aa203a",
   "metadata": {},
   "outputs": [],
   "source": [
    "\n",
    "#Customer distribution by country\n",
    "country_cust_data=Rtl_data[['Country','CustomerID']].drop_duplicates()\n",
    "country_cust_data.groupby(['Country'])['CustomerID'].aggregate('count').reset_index().sort_values('CustomerID', ascending=False)"
   ]
  },
  {
   "cell_type": "code",
   "execution_count": null,
   "id": "bea7dd8d",
   "metadata": {},
   "outputs": [],
   "source": [
    "\n",
    "#Keep only United Kingdom data\n",
    "Rtl_data = Rtl_data.query(\"Country=='United Kingdom'\").reset_index(drop=True)"
   ]
  },
  {
   "cell_type": "code",
   "execution_count": null,
   "id": "21fa68b1",
   "metadata": {
    "scrolled": true
   },
   "outputs": [],
   "source": [
    "\n",
    "#Check for missing values in the dataset\n",
    "Rtl_data.isnull().sum(axis=0)"
   ]
  },
  {
   "cell_type": "code",
   "execution_count": null,
   "id": "c203c25d",
   "metadata": {},
   "outputs": [],
   "source": [
    "#Remove missing values from CustomerID column, can ignore missing values in description column\n",
    "Rtl_data = Rtl_data[pd.notnull(Rtl_data['CustomerID'])]\n",
    "\n",
    "#Validate if there are any negative values in Quantity column\n",
    "Rtl_data.Quantity.min()"
   ]
  },
  {
   "cell_type": "code",
   "execution_count": null,
   "id": "71026e50",
   "metadata": {
    "scrolled": true
   },
   "outputs": [],
   "source": [
    "#Validate if there are any negative values in UnitPrice column\n",
    "Rtl_data.UnitPrice.min()\n"
   ]
  },
  {
   "cell_type": "code",
   "execution_count": null,
   "id": "301b2c1e",
   "metadata": {},
   "outputs": [],
   "source": [
    "#Filter out records with negative values\n",
    "Rtl_data = Rtl_data[(Rtl_data['Quantity']>0)]"
   ]
  },
  {
   "cell_type": "code",
   "execution_count": null,
   "id": "e13fcaa0",
   "metadata": {},
   "outputs": [],
   "source": [
    "#Convert the string date field to datetime\n",
    "Rtl_data['InvoiceDate'] = pd.to_datetime(Rtl_data['InvoiceDate'])"
   ]
  },
  {
   "cell_type": "code",
   "execution_count": null,
   "id": "7a6f008d",
   "metadata": {},
   "outputs": [],
   "source": [
    "#Add new column depicting total amount\n",
    "Rtl_data['TotalAmount'] = Rtl_data['Quantity'] * Rtl_data['UnitPrice']"
   ]
  },
  {
   "cell_type": "code",
   "execution_count": null,
   "id": "f0730452",
   "metadata": {},
   "outputs": [],
   "source": [
    "#Check the shape (number of columns and rows) in the dataset after data is cleaned\n",
    "Rtl_data.shape"
   ]
  },
  {
   "cell_type": "code",
   "execution_count": null,
   "id": "7e65043f",
   "metadata": {
    "scrolled": true
   },
   "outputs": [],
   "source": [
    "\n",
    "Rtl_data.head()\n"
   ]
  },
  {
   "cell_type": "code",
   "execution_count": null,
   "id": "c9914052",
   "metadata": {},
   "outputs": [],
   "source": [
    "#Recency = Latest Date - Last Inovice Data, Frequency = count of invoice no. of transaction(s), Monetary = Sum of Total \n",
    "#Amount for each customer\n",
    "import datetime as dt\n",
    "\n",
    "#Set Latest date 2011-12-10 as last invoice date was 2011-12-09. This is to calculate the number of days from recent purchase\n",
    "Latest_Date = dt.datetime(2011,12,10)\n",
    "\n",
    "#Create RFM Modelling scores for each customer\n",
    "RFMScores = Rtl_data.groupby('CustomerID').agg({'InvoiceDate': lambda x: (Latest_Date - x.max()).days, 'InvoiceNo': lambda x: len(x), 'TotalAmount': lambda x: x.sum()})\n",
    "\n",
    "#Convert Invoice Date into type int\n",
    "RFMScores['InvoiceDate'] = RFMScores['InvoiceDate'].astype(int)\n",
    "\n",
    "#Rename column names to Recency, Frequency and Monetary\n",
    "RFMScores.rename(columns={'InvoiceDate': 'Recency', \n",
    "                         'InvoiceNo': 'Frequency', \n",
    "                         'TotalAmount': 'Monetary'}, inplace=True)\n",
    "\n",
    "RFMScores.reset_index().head()"
   ]
  },
  {
   "cell_type": "code",
   "execution_count": null,
   "id": "0ecf624e",
   "metadata": {},
   "outputs": [],
   "source": [
    "\n",
    "#Descriptive Statistics (Recency)\n",
    "RFMScores.Recency.describe()"
   ]
  },
  {
   "cell_type": "code",
   "execution_count": null,
   "id": "1cfd40d6",
   "metadata": {},
   "outputs": [],
   "source": [
    "\n",
    "#Recency distribution plot\n",
    "import seaborn as sns\n",
    "x = RFMScores['Recency']\n",
    "\n",
    "ax = sns.distplot(x)"
   ]
  },
  {
   "cell_type": "code",
   "execution_count": null,
   "id": "a3bcd59d",
   "metadata": {
    "scrolled": true
   },
   "outputs": [],
   "source": [
    "\n",
    "#Descriptive Statistics (Frequency)\n",
    "RFMScores.Frequency.describe()"
   ]
  },
  {
   "cell_type": "code",
   "execution_count": null,
   "id": "cafe0c47",
   "metadata": {},
   "outputs": [],
   "source": [
    "#Frequency distribution plot, taking observations which have frequency less than 1000\n",
    "import seaborn as sns\n",
    "x = RFMScores.query('Frequency < 1000')['Frequency']\n",
    "\n",
    "ax = sns.distplot(x)"
   ]
  },
  {
   "cell_type": "code",
   "execution_count": null,
   "id": "1207a3e9",
   "metadata": {
    "scrolled": true
   },
   "outputs": [],
   "source": [
    "\n",
    "#Descriptive Statistics (Monetary)\n",
    "RFMScores.Monetary.describe()"
   ]
  },
  {
   "cell_type": "code",
   "execution_count": null,
   "id": "f8ed0857",
   "metadata": {},
   "outputs": [],
   "source": [
    "\n",
    "#Monateray distribution plot, taking observations which have monetary value less than 10000\n",
    "import seaborn as sns\n",
    "x = RFMScores.query('Monetary < 10000')['Monetary']\n",
    "\n",
    "ax = sns.distplot(x)"
   ]
  },
  {
   "cell_type": "code",
   "execution_count": null,
   "id": "9914d21a",
   "metadata": {},
   "outputs": [],
   "source": [
    "\n",
    "#Split into four segments using quantiles\n",
    "quantiles = RFMScores.quantile(q=[0.25,0.5,0.75])\n",
    "quantiles = quantiles.to_dict()"
   ]
  },
  {
   "cell_type": "code",
   "execution_count": null,
   "id": "2ae35ddb",
   "metadata": {},
   "outputs": [],
   "source": [
    "quantiles"
   ]
  },
  {
   "cell_type": "code",
   "execution_count": null,
   "id": "14a59724",
   "metadata": {},
   "outputs": [],
   "source": [
    "#Functions to create R, F and M segments\n",
    "def RScoring(x,p,d):\n",
    "    if x <= d[p][0.25]:\n",
    "        return 1\n",
    "    elif x <= d[p][0.50]:\n",
    "        return 2\n",
    "    elif x <= d[p][0.75]: \n",
    "        return 3\n",
    "    else:\n",
    "        return 4\n",
    "    \n",
    "def FnMScoring(x,p,d):\n",
    "    if x <= d[p][0.25]:\n",
    "        return 4\n",
    "    elif x <= d[p][0.50]:\n",
    "        return 3\n",
    "    elif x <= d[p][0.75]: \n",
    "        return 2\n",
    "    else:\n",
    "        return 1"
   ]
  },
  {
   "cell_type": "code",
   "execution_count": null,
   "id": "b9868834",
   "metadata": {},
   "outputs": [],
   "source": [
    "\n",
    "#Calculate Add R, F and M segment value columns in the existing dataset to show R, F and M segment values\n",
    "RFMScores['R'] = RFMScores['Recency'].apply(RScoring, args=('Recency',quantiles,))\n",
    "RFMScores['F'] = RFMScores['Frequency'].apply(FnMScoring, args=('Frequency',quantiles,))\n",
    "RFMScores['M'] = RFMScores['Monetary'].apply(FnMScoring, args=('Monetary',quantiles,))\n",
    "RFMScores.head()"
   ]
  },
  {
   "cell_type": "code",
   "execution_count": null,
   "id": "6794a8ac",
   "metadata": {},
   "outputs": [],
   "source": [
    "#Calculate and Add RFMGroup value column showing combined concatenated score of RFM\n",
    "RFMScores['RFMGroup'] = RFMScores.R.map(str) + RFMScores.F.map(str) + RFMScores.M.map(str)\n",
    "\n",
    "#Calculate and Add RFMScore value column showing total sum of RFMGroup values\n",
    "RFMScores['RFMScore'] = RFMScores[['R', 'F', 'M']].sum(axis = 1)\n",
    "RFMScores.head()"
   ]
  },
  {
   "cell_type": "code",
   "execution_count": null,
   "id": "b9b4860f",
   "metadata": {},
   "outputs": [],
   "source": [
    "#Assign Loyalty Level to each customer\n",
    "Loyalty_Level = ['Platinum', 'Gold', 'Silver', 'Bronze']\n",
    "Score_cuts = pd.qcut(RFMScores.RFMScore, q = 4, labels = Loyalty_Level)\n",
    "RFMScores['RFM_Loyalty_Level'] = Score_cuts.values\n",
    "RFMScores.reset_index().head()"
   ]
  },
  {
   "cell_type": "code",
   "execution_count": null,
   "id": "0b49fd2d",
   "metadata": {},
   "outputs": [],
   "source": [
    "\n",
    "#Validate the data for RFMGroup = 111\n",
    "RFMScores[RFMScores['RFMGroup']=='111'].sort_values('Monetary', ascending=False).reset_index().head(10)"
   ]
  },
  {
   "cell_type": "code",
   "execution_count": null,
   "id": "3665c4ef",
   "metadata": {},
   "outputs": [],
   "source": [
    "import chart_studio as cs\n",
    "import plotly.offline as po\n",
    "import plotly.graph_objs as gobj\n",
    "\n",
    "#Recency Vs Frequency\n",
    "graph = RFMScores.query(\"Monetary < 50000 and Frequency < 2000\")\n",
    "\n",
    "plot_data = [\n",
    "    gobj.Scatter(\n",
    "        x=graph.query(\"RFM_Loyalty_Level == 'Bronze'\")['Recency'],\n",
    "        y=graph.query(\"RFM_Loyalty_Level == 'Bronze'\")['Frequency'],\n",
    "        mode='markers',\n",
    "        name='Bronze',\n",
    "        marker= dict(size= 7,\n",
    "            line= dict(width=1),\n",
    "            color= 'blue',\n",
    "            opacity= 0.8\n",
    "           )\n",
    "    ),\n",
    "        gobj.Scatter(\n",
    "        x=graph.query(\"RFM_Loyalty_Level == 'Silver'\")['Recency'],\n",
    "        y=graph.query(\"RFM_Loyalty_Level == 'Silver'\")['Frequency'],\n",
    "        mode='markers',\n",
    "        name='Silver',\n",
    "        marker= dict(size= 9,\n",
    "            line= dict(width=1),\n",
    "            color= 'green',\n",
    "            opacity= 0.5\n",
    "           )\n",
    "    ),\n",
    "        gobj.Scatter(\n",
    "        x=graph.query(\"RFM_Loyalty_Level == 'Gold'\")['Recency'],\n",
    "        y=graph.query(\"RFM_Loyalty_Level == 'Gold'\")['Frequency'],\n",
    "        mode='markers',\n",
    "        name='Gold',\n",
    "        marker= dict(size= 11,\n",
    "            line= dict(width=1),\n",
    "            color= 'red',\n",
    "            opacity= 0.9\n",
    "           )\n",
    "    ),\n",
    "    gobj.Scatter(\n",
    "        x=graph.query(\"RFM_Loyalty_Level == 'Platinum'\")['Recency'],\n",
    "        y=graph.query(\"RFM_Loyalty_Level == 'Platinum'\")['Frequency'],\n",
    "        mode='markers',\n",
    "        name='Platinum',\n",
    "        marker= dict(size= 13,\n",
    "            line= dict(width=1),\n",
    "            color= 'black',\n",
    "            opacity= 0.9\n",
    "           )\n",
    "    ),\n",
    "]\n",
    "\n",
    "plot_layout = gobj.Layout(\n",
    "        yaxis= {'title': \"Frequency\"},\n",
    "        xaxis= {'title': \"Recency\"},\n",
    "        title='Segments'\n",
    "    )\n",
    "fig = gobj.Figure(data=plot_data, layout=plot_layout)\n",
    "po.iplot(fig)\n",
    "\n",
    "#Frequency Vs Monetary\n",
    "graph = RFMScores.query(\"Monetary < 50000 and Frequency < 2000\")\n",
    "\n",
    "plot_data = [\n",
    "    gobj.Scatter(\n",
    "        x=graph.query(\"RFM_Loyalty_Level == 'Bronze'\")['Frequency'],\n",
    "        y=graph.query(\"RFM_Loyalty_Level == 'Bronze'\")['Monetary'],\n",
    "        mode='markers',\n",
    "        name='Bronze',\n",
    "        marker= dict(size= 7,\n",
    "            line= dict(width=1),\n",
    "            color= 'blue',\n",
    "            opacity= 0.8\n",
    "           )\n",
    "    ),\n",
    "        gobj.Scatter(\n",
    "        x=graph.query(\"RFM_Loyalty_Level == 'Silver'\")['Frequency'],\n",
    "        y=graph.query(\"RFM_Loyalty_Level == 'Silver'\")['Monetary'],\n",
    "        mode='markers',\n",
    "        name='Silver',\n",
    "        marker= dict(size= 9,\n",
    "            line= dict(width=1),\n",
    "            color= 'green',\n",
    "            opacity= 0.5\n",
    "           )\n",
    "    ),\n",
    "        gobj.Scatter(\n",
    "        x=graph.query(\"RFM_Loyalty_Level == 'Gold'\")['Frequency'],\n",
    "        y=graph.query(\"RFM_Loyalty_Level == 'Gold'\")['Monetary'],\n",
    "        mode='markers',\n",
    "        name='Gold',\n",
    "        marker= dict(size= 11,\n",
    "            line= dict(width=1),\n",
    "            color= 'red',\n",
    "            opacity= 0.9\n",
    "           )\n",
    "    ),\n",
    "    gobj.Scatter(\n",
    "        x=graph.query(\"RFM_Loyalty_Level == 'Platinum'\")['Frequency'],\n",
    "        y=graph.query(\"RFM_Loyalty_Level == 'Platinum'\")['Monetary'],\n",
    "        mode='markers',\n",
    "        name='Platinum',\n",
    "        marker= dict(size= 13,\n",
    "            line= dict(width=1),\n",
    "            color= 'black',\n",
    "            opacity= 0.9\n",
    "           )\n",
    "    ),\n",
    "]\n",
    "\n",
    "plot_layout = gobj.Layout(\n",
    "        yaxis= {'title': \"Monetary\"},\n",
    "        xaxis= {'title': \"Frequency\"},\n",
    "        title='Segments'\n",
    "    )\n",
    "fig = gobj.Figure(data=plot_data, layout=plot_layout)\n",
    "po.iplot(fig)\n",
    "\n",
    "#Recency Vs Monetary\n",
    "graph = RFMScores.query(\"Monetary < 50000 and Frequency < 2000\")\n",
    "\n",
    "plot_data = [\n",
    "    gobj.Scatter(\n",
    "        x=graph.query(\"RFM_Loyalty_Level == 'Bronze'\")['Recency'],\n",
    "        y=graph.query(\"RFM_Loyalty_Level == 'Bronze'\")['Monetary'],\n",
    "        mode='markers',\n",
    "        name='Bronze',\n",
    "        marker= dict(size= 7,\n",
    "            line= dict(width=1),\n",
    "            color= 'blue',\n",
    "            opacity= 0.8\n",
    "           )\n",
    "    ),\n",
    "        gobj.Scatter(\n",
    "        x=graph.query(\"RFM_Loyalty_Level == 'Silver'\")['Recency'],\n",
    "        y=graph.query(\"RFM_Loyalty_Level == 'Silver'\")['Monetary'],\n",
    "        mode='markers',\n",
    "        name='Silver',\n",
    "        marker= dict(size= 9,\n",
    "            line= dict(width=1),\n",
    "            color= 'green',\n",
    "            opacity= 0.5\n",
    "           )\n",
    "    ),\n",
    "        gobj.Scatter(\n",
    "        x=graph.query(\"RFM_Loyalty_Level == 'Gold'\")['Recency'],\n",
    "        y=graph.query(\"RFM_Loyalty_Level == 'Gold'\")['Monetary'],\n",
    "        mode='markers',\n",
    "        name='Gold',\n",
    "        marker= dict(size= 11,\n",
    "            line= dict(width=1),\n",
    "            color= 'red',\n",
    "            opacity= 0.9\n",
    "           )\n",
    "    ),\n",
    "    gobj.Scatter(\n",
    "        x=graph.query(\"RFM_Loyalty_Level == 'Platinum'\")['Recency'],\n",
    "        y=graph.query(\"RFM_Loyalty_Level == 'Platinum'\")['Monetary'],\n",
    "        mode='markers',\n",
    "        name='Platinum',\n",
    "        marker= dict(size= 13,\n",
    "            line= dict(width=1),\n",
    "            color= 'black',\n",
    "            opacity= 0.9\n",
    "           )\n",
    "    ),\n",
    "]\n",
    "\n",
    "plot_layout = gobj.Layout(\n",
    "        yaxis= {'title': \"Monetary\"},\n",
    "        xaxis= {'title': \"Recency\"},\n",
    "        title='Segments'\n",
    "    )\n",
    "fig = gobj.Figure(data=plot_data, layout=plot_layout)\n",
    "po.iplot(fig)"
   ]
  },
  {
   "cell_type": "code",
   "execution_count": null,
   "id": "907c3a9b",
   "metadata": {},
   "outputs": [],
   "source": [
    "#Handle negative and zero values so as to handle infinite numbers during log transformation (K Means Clustering)\n",
    "def handle_neg_n_zero(num):\n",
    "    if num <= 0:\n",
    "        return 1\n",
    "    else:\n",
    "        return num\n",
    "#Apply handle_neg_n_zero function to Recency and Monetary columns \n",
    "RFMScores['Recency'] = [handle_neg_n_zero(x) for x in RFMScores.Recency]\n",
    "RFMScores['Monetary'] = [handle_neg_n_zero(x) for x in RFMScores.Monetary]\n",
    "\n",
    "#Perform Log transformation to bring data into normal or near normal distribution\n",
    "Log_Tfd_Data = RFMScores[['Recency', 'Frequency', 'Monetary']].apply(np.log, axis = 1).round(3)"
   ]
  },
  {
   "cell_type": "code",
   "execution_count": null,
   "id": "822801d4",
   "metadata": {},
   "outputs": [],
   "source": [
    "\n",
    "#Data distribution after data normalization for Recency\n",
    "Recency_Plot = Log_Tfd_Data['Recency']\n",
    "ax = sns.distplot(Recency_Plot)"
   ]
  },
  {
   "cell_type": "code",
   "execution_count": null,
   "id": "668406d5",
   "metadata": {},
   "outputs": [],
   "source": [
    "\n",
    "#Data distribution after data normalization for Frequency\n",
    "Frequency_Plot = Log_Tfd_Data.query('Frequency < 1000')['Frequency']\n",
    "ax = sns.distplot(Frequency_Plot)"
   ]
  },
  {
   "cell_type": "code",
   "execution_count": null,
   "id": "3b27d9fa",
   "metadata": {},
   "outputs": [],
   "source": [
    "\n",
    "#Data distribution after data normalization for Monetary\n",
    "Monetary_Plot = Log_Tfd_Data.query('Monetary < 10000')['Monetary']\n",
    "ax = sns.distplot(Monetary_Plot)"
   ]
  },
  {
   "cell_type": "code",
   "execution_count": null,
   "id": "ad1cf08d",
   "metadata": {},
   "outputs": [],
   "source": [
    "\n",
    "from sklearn.preprocessing import StandardScaler\n",
    "\n",
    "#Bring the data on same scale\n",
    "scaleobj = StandardScaler()\n",
    "Scaled_Data = scaleobj.fit_transform(Log_Tfd_Data)\n",
    "\n",
    "#Transform it back to dataframe\n",
    "Scaled_Data = pd.DataFrame(Scaled_Data, index = RFMScores.index, columns = Log_Tfd_Data.columns)"
   ]
  },
  {
   "cell_type": "code",
   "execution_count": null,
   "id": "173fca28",
   "metadata": {},
   "outputs": [],
   "source": [
    "\n",
    "from sklearn.cluster import KMeans\n",
    "\n",
    "sum_of_sq_dist = {}\n",
    "for k in range(1,15):\n",
    "    km = KMeans(n_clusters= k, init= 'k-means++', max_iter= 1000)\n",
    "    km = km.fit(Scaled_Data)\n",
    "    sum_of_sq_dist[k] = km.inertia_\n",
    "    \n",
    "#Plot the graph for the sum of square distance values and Number of Clusters\n",
    "sns.pointplot(x = list(sum_of_sq_dist.keys()), y = list(sum_of_sq_dist.values()))\n",
    "plt.xlabel('Number of Clusters(k)')\n",
    "plt.ylabel('Sum of Square Distances')\n",
    "plt.title('Elbow Method For Optimal k')\n",
    "plt.show()"
   ]
  },
  {
   "cell_type": "code",
   "execution_count": null,
   "id": "7925ab09",
   "metadata": {},
   "outputs": [],
   "source": [
    "\n",
    "#Perform K-Mean Clustering or build the K-Means clustering model\n",
    "KMean_clust = KMeans(n_clusters= 3, init= 'k-means++', max_iter= 1000)\n",
    "KMean_clust.fit(Scaled_Data)\n",
    "\n",
    "#Find the clusters for the observation given in the dataset\n",
    "RFMScores['Cluster'] = KMean_clust.labels_\n",
    "RFMScores.head()"
   ]
  },
  {
   "cell_type": "code",
   "execution_count": null,
   "id": "6987ad86",
   "metadata": {},
   "outputs": [],
   "source": [
    "\n",
    "from matplotlib import pyplot as plt\n",
    "plt.figure(figsize=(7,7))\n",
    "\n",
    "##Scatter Plot Frequency Vs Recency\n",
    "Colors = [\"red\", \"green\", \"blue\"]\n",
    "RFMScores['Color'] = RFMScores['Cluster'].map(lambda p: Colors[p])\n",
    "ax = RFMScores.plot(    \n",
    "    kind=\"scatter\", \n",
    "    x=\"Recency\", y=\"Frequency\",\n",
    "    figsize=(10,8),\n",
    "    c = RFMScores['Color']\n",
    ")"
   ]
  },
  {
   "cell_type": "code",
   "execution_count": null,
   "id": "58bbcd1b",
   "metadata": {},
   "outputs": [],
   "source": [
    "RFMScores.head()"
   ]
  },
  {
   "cell_type": "code",
   "execution_count": null,
   "id": "4a69caac",
   "metadata": {},
   "outputs": [],
   "source": []
  }
 ],
 "metadata": {
  "kernelspec": {
   "display_name": "Python 3 (ipykernel)",
   "language": "python",
   "name": "python3"
  },
  "language_info": {
   "codemirror_mode": {
    "name": "ipython",
    "version": 3
   },
   "file_extension": ".py",
   "mimetype": "text/x-python",
   "name": "python",
   "nbconvert_exporter": "python",
   "pygments_lexer": "ipython3",
   "version": "3.9.7"
  }
 },
 "nbformat": 4,
 "nbformat_minor": 5
}
